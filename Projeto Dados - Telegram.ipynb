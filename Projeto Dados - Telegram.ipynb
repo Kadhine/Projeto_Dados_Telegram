{
  "nbformat": 4,
  "nbformat_minor": 0,
  "metadata": {
    "colab": {
      "provenance": [],
      "collapsed_sections": [
        "JG1HL69-j0lH",
        "s_Dj-BgThLg5",
        "jeEzLmuRhDQy",
        "PoTeRwlihDQ0",
        "QpMlxqRyhDQ1",
        "ov7Fg-mWhDQ1",
        "DvHPNAoPgdiG",
        "3SMp5GwjglJm",
        "e3ieQfXTgqd3",
        "L0pKWNr5fm9z",
        "DMhCpOU_gupo",
        "l3h0WP2Eg2ht",
        "rWG4Vk6XaWtf",
        "wkibgd8rB8y3",
        "IjPaJtnYE0MI",
        "2lpj1rszc--m",
        "HnWg_mhLd5gC",
        "RhqmXiHQo-is",
        "SvT9xrajLL7J",
        "91eSyA2cLLqv"
      ]
    },
    "kernelspec": {
      "name": "python3",
      "display_name": "Python 3"
    }
  },
  "cells": [
    {
      "cell_type": "markdown",
      "metadata": {
        "id": "KJqp9AANOCtf"
      },
      "source": [
        "<img src=\"https://raw.githubusercontent.com/andre-marcos-perez/ebac-course-utils/main/media/logo/newebac_logo_black_half.png\" alt=\"ebac-logo\">\n",
        "\n",
        "---\n",
        "\n",
        "# **Módulo** | Pipeline de Dados do Telegram I\n",
        "Caderno de **Exercícios**<br>\n",
        "Professor [André Perez](https://www.linkedin.com/in/andremarcosperez/)\n",
        "\n",
        "---"
      ]
    },
    {
      "cell_type": "markdown",
      "metadata": {
        "id": "d9jDtUbDOE1-"
      },
      "source": [
        "# **Tópicos**\n",
        "\n",
        "<ol type=\"1\">\n",
        "  <li>Contexto;</li>\n",
        "  <li>Telegram;</li>\n",
        "  <li>Dados.</li>\n",
        "</ol>"
      ]
    },
    {
      "cell_type": "markdown",
      "metadata": {
        "id": "SmoHgt-lwkpD"
      },
      "source": [
        "---"
      ]
    },
    {
      "cell_type": "markdown",
      "metadata": {
        "id": "GABI6OW8OfQ2"
      },
      "source": [
        "# **Exercícios**"
      ]
    },
    {
      "cell_type": "markdown",
      "metadata": {
        "id": "ne7Ay0HKaGSv"
      },
      "source": [
        "## 1\\. Telegram."
      ]
    },
    {
      "cell_type": "markdown",
      "metadata": {
        "id": "OQxOVktrzG9I"
      },
      "source": [
        "Replique as atividades da aula 2."
      ]
    },
    {
      "cell_type": "markdown",
      "source": [
        "1.1. Crie uma conta no **Telegram** caso não possua uma e faça o login na versão web da ferramenta através desse [link](https://web.telegram.org)."
      ],
      "metadata": {
        "id": "E69nBHvAa_O5"
      }
    },
    {
      "cell_type": "markdown",
      "source": [
        "1.2. Crie um *bot*."
      ],
      "metadata": {
        "id": "R9Ils6eccOLS"
      }
    },
    {
      "cell_type": "markdown",
      "source": [
        "1.3. Crie um grupo e adicione o *bot*."
      ],
      "metadata": {
        "id": "8oTn1Z1Md2GQ"
      }
    },
    {
      "cell_type": "markdown",
      "source": [
        "1.4. Torne o *bot* administrador do grupo."
      ],
      "metadata": {
        "id": "LzXWWUWzeNxt"
      }
    },
    {
      "cell_type": "markdown",
      "source": [
        "1.5. Desabilite a opção de adicionar o *bot* a novos grupos."
      ],
      "metadata": {
        "id": "_D2WT_iueaRr"
      }
    },
    {
      "cell_type": "markdown",
      "source": [
        "1.6. Envie diversos tipos de mensagens no grupo (text, imagem, arquivos, video, áudio, etc.) e as consuma utilizand a API de *bots* do **Telegram**."
      ],
      "metadata": {
        "id": "t4PyML7VUPBd"
      }
    },
    {
      "cell_type": "markdown",
      "source": [
        "> **Nota:** A documentação completa da API pode ser encontrada neste [link](https://core.telegram.org/bots/api)"
      ],
      "metadata": {
        "id": "c4MXmvWMUetr"
      }
    },
    {
      "cell_type": "code",
      "source": [
        "# Solução do item 1.6.\n",
        "\n",
        "from getpass import getpass\n",
        "\n",
        "token = getpass()"
      ],
      "metadata": {
        "id": "y3idc49neaRt"
      },
      "execution_count": null,
      "outputs": []
    },
    {
      "cell_type": "code",
      "source": [
        "import json\n",
        "\n",
        "import requests\n",
        "\n",
        "base_url = f'https://api.telegram.org/bot{token}'"
      ],
      "metadata": {
        "id": "TiTAT1f9mXIc"
      },
      "execution_count": null,
      "outputs": []
    },
    {
      "cell_type": "code",
      "source": [
        "response = requests.get(url=f'{base_url}/getMe')\n",
        "print(f'{base_url}/getMe')\n",
        "\n",
        "print(json.dumps(json.loads(response.text), indent=2))"
      ],
      "metadata": {
        "id": "WIp4R2nemZPz"
      },
      "execution_count": null,
      "outputs": []
    },
    {
      "cell_type": "code",
      "source": [
        "response = requests.get(url=f'{base_url}/getUpdates')\n",
        "\n",
        "print(json.dumps(json.loads(response.text), indent=2))"
      ],
      "metadata": {
        "id": "zw_vsBZbmbF7"
      },
      "execution_count": null,
      "outputs": []
    },
    {
      "cell_type": "code",
      "source": [
        "%%writefile telegram.json\n",
        "{\n",
        "    \"update_id\": 123,\n",
        "    \"message\": {\n",
        "        \"message_id\": 1,\n",
        "        \"from\": {\n",
        "            \"id\": 321,\n",
        "            \"is_bot\": false,\n",
        "            \"first_name\": \"Andre\"\n",
        "        },\n",
        "        \"chat\": {\n",
        "            \"id\": -789,\n",
        "            \"type\": \"group\"\n",
        "        },\n",
        "        \"date\": 1640995200,\n",
        "        \"text\": \"Ola, mundo!\"\n",
        "    }\n",
        "}"
      ],
      "metadata": {
        "id": "0v303PiwmdJr"
      },
      "execution_count": null,
      "outputs": []
    },
    {
      "cell_type": "code",
      "source": [
        "import json\n",
        "\n",
        "with open('telegram.json', mode='r', encoding='utf8') as fp:\n",
        "  data = json.load(fp)\n",
        "  data = data[\"message\"]"
      ],
      "metadata": {
        "id": "xmlzwcaPmiTc"
      },
      "execution_count": null,
      "outputs": []
    },
    {
      "cell_type": "code",
      "source": [
        "print(json.dumps(data, indent=2))"
      ],
      "metadata": {
        "id": "bhtsEhi5mkPD"
      },
      "execution_count": null,
      "outputs": []
    },
    {
      "cell_type": "code",
      "source": [
        "from datetime import datetime\n",
        "\n",
        "date = datetime.now().strftime('%Y-%m-%d')\n",
        "timestamp = datetime.now().strftime('%Y-%m-%d %H:%M:%S')\n",
        "\n",
        "parsed_data = dict()\n",
        "\n",
        "for key, value in data.items():\n",
        "\n",
        "    if key == 'from':\n",
        "        for k, v in data[key].items():\n",
        "            if k in ['id', 'is_bot', 'first_name']:\n",
        "              parsed_data[f\"{key if key == 'chat' else 'user'}_{k}\"] = [v]\n",
        "\n",
        "    elif key == 'chat':\n",
        "        for k, v in data[key].items():\n",
        "            if k in ['id', 'type']:\n",
        "              parsed_data[f\"{key if key == 'chat' else 'user'}_{k}\"] = [v]\n",
        "\n",
        "    elif key in ['message_id', 'date', 'text']:\n",
        "        parsed_data[key] = [value]\n",
        "\n",
        "if not 'text' in parsed_data.keys():\n",
        "  parsed_data['text'] = [None]\n",
        "\n",
        "parsed_data['context_date'] = [date]\n",
        "parsed_data['context_timestamp'] = [timestamp]"
      ],
      "metadata": {
        "id": "mcMFpw8KmmzT"
      },
      "execution_count": null,
      "outputs": []
    },
    {
      "cell_type": "code",
      "source": [
        "for k, v in parsed_data.items():\n",
        "  print(f\"{k}: {v}\")"
      ],
      "metadata": {
        "id": "JX3L133Nmo3b"
      },
      "execution_count": null,
      "outputs": []
    },
    {
      "cell_type": "code",
      "source": [
        "import pyarrow as pa\n",
        "\n",
        "table = pa.Table.from_pydict(mapping=parsed_data)"
      ],
      "metadata": {
        "id": "ufpUtM4D1Z2H"
      },
      "execution_count": null,
      "outputs": []
    }
  ]
}